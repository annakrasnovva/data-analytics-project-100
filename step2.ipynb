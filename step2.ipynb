{
 "cells": [
  {
   "cell_type": "code",
   "execution_count": 2,
   "id": "ece0a5f8-4926-4dc1-8008-446330f50b55",
   "metadata": {},
   "outputs": [],
   "source": [
    "import requests as r\n",
    "import pandas as pd"
   ]
  },
  {
   "cell_type": "code",
   "execution_count": 4,
   "id": "0e0baa13-cd50-4636-939a-186f0f43f13b",
   "metadata": {},
   "outputs": [],
   "source": [
    "visits = r.get(\"https://data-charts-api.hexlet.app/visits?begin=2023-03-01&end=2023-09-01\")"
   ]
  },
  {
   "cell_type": "code",
   "execution_count": 5,
   "id": "80070a52-9c56-40ed-9d21-8b439ed83510",
   "metadata": {},
   "outputs": [],
   "source": [
    "regs = r.get(\"https://data-charts-api.hexlet.app/registrations?begin=2023-03-01&end=2023-09-01\")"
   ]
  }
 ],
 "metadata": {
  "kernelspec": {
   "display_name": "Python 3 (ipykernel)",
   "language": "python",
   "name": "python3"
  },
  "language_info": {
   "codemirror_mode": {
    "name": "ipython",
    "version": 3
   },
   "file_extension": ".py",
   "mimetype": "text/x-python",
   "name": "python",
   "nbconvert_exporter": "python",
   "pygments_lexer": "ipython3",
   "version": "3.12.7"
  }
 },
 "nbformat": 4,
 "nbformat_minor": 5
}
